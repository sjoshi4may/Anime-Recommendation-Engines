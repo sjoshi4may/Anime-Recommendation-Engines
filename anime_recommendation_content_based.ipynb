{
 "cells": [
  {
   "cell_type": "code",
   "execution_count": 1,
   "metadata": {
    "collapsed": true
   },
   "outputs": [],
   "source": [
    "%matplotlib inline\n",
    "import pandas as pd\n",
    "import numpy as np"
   ]
  },
  {
   "cell_type": "code",
   "execution_count": 2,
   "metadata": {
    "collapsed": true
   },
   "outputs": [],
   "source": [
    "anime_data = pd.read_csv('anime.csv')\n",
    "user_rating = pd.read_csv('rating.csv')"
   ]
  },
  {
   "cell_type": "code",
   "execution_count": 3,
   "metadata": {},
   "outputs": [
    {
     "data": {
      "text/html": [
       "<div>\n",
       "<style>\n",
       "    .dataframe thead tr:only-child th {\n",
       "        text-align: right;\n",
       "    }\n",
       "\n",
       "    .dataframe thead th {\n",
       "        text-align: left;\n",
       "    }\n",
       "\n",
       "    .dataframe tbody tr th {\n",
       "        vertical-align: top;\n",
       "    }\n",
       "</style>\n",
       "<table border=\"1\" class=\"dataframe\">\n",
       "  <thead>\n",
       "    <tr style=\"text-align: right;\">\n",
       "      <th></th>\n",
       "      <th>anime_id</th>\n",
       "      <th>name</th>\n",
       "      <th>genre</th>\n",
       "      <th>type</th>\n",
       "      <th>episodes</th>\n",
       "      <th>rating</th>\n",
       "      <th>members</th>\n",
       "    </tr>\n",
       "  </thead>\n",
       "  <tbody>\n",
       "    <tr>\n",
       "      <th>0</th>\n",
       "      <td>32281</td>\n",
       "      <td>Kimi no Na wa.</td>\n",
       "      <td>Drama, Romance, School, Supernatural</td>\n",
       "      <td>Movie</td>\n",
       "      <td>1</td>\n",
       "      <td>9.37</td>\n",
       "      <td>200630</td>\n",
       "    </tr>\n",
       "    <tr>\n",
       "      <th>1</th>\n",
       "      <td>5114</td>\n",
       "      <td>Fullmetal Alchemist: Brotherhood</td>\n",
       "      <td>Action, Adventure, Drama, Fantasy, Magic, Mili...</td>\n",
       "      <td>TV</td>\n",
       "      <td>64</td>\n",
       "      <td>9.26</td>\n",
       "      <td>793665</td>\n",
       "    </tr>\n",
       "    <tr>\n",
       "      <th>2</th>\n",
       "      <td>28977</td>\n",
       "      <td>Gintama°</td>\n",
       "      <td>Action, Comedy, Historical, Parody, Samurai, S...</td>\n",
       "      <td>TV</td>\n",
       "      <td>51</td>\n",
       "      <td>9.25</td>\n",
       "      <td>114262</td>\n",
       "    </tr>\n",
       "    <tr>\n",
       "      <th>3</th>\n",
       "      <td>9253</td>\n",
       "      <td>Steins;Gate</td>\n",
       "      <td>Sci-Fi, Thriller</td>\n",
       "      <td>TV</td>\n",
       "      <td>24</td>\n",
       "      <td>9.17</td>\n",
       "      <td>673572</td>\n",
       "    </tr>\n",
       "    <tr>\n",
       "      <th>4</th>\n",
       "      <td>9969</td>\n",
       "      <td>Gintama&amp;#039;</td>\n",
       "      <td>Action, Comedy, Historical, Parody, Samurai, S...</td>\n",
       "      <td>TV</td>\n",
       "      <td>51</td>\n",
       "      <td>9.16</td>\n",
       "      <td>151266</td>\n",
       "    </tr>\n",
       "  </tbody>\n",
       "</table>\n",
       "</div>"
      ],
      "text/plain": [
       "   anime_id                              name  \\\n",
       "0     32281                    Kimi no Na wa.   \n",
       "1      5114  Fullmetal Alchemist: Brotherhood   \n",
       "2     28977                          Gintama°   \n",
       "3      9253                       Steins;Gate   \n",
       "4      9969                     Gintama&#039;   \n",
       "\n",
       "                                               genre   type episodes  rating  \\\n",
       "0               Drama, Romance, School, Supernatural  Movie        1    9.37   \n",
       "1  Action, Adventure, Drama, Fantasy, Magic, Mili...     TV       64    9.26   \n",
       "2  Action, Comedy, Historical, Parody, Samurai, S...     TV       51    9.25   \n",
       "3                                   Sci-Fi, Thriller     TV       24    9.17   \n",
       "4  Action, Comedy, Historical, Parody, Samurai, S...     TV       51    9.16   \n",
       "\n",
       "   members  \n",
       "0   200630  \n",
       "1   793665  \n",
       "2   114262  \n",
       "3   673572  \n",
       "4   151266  "
      ]
     },
     "execution_count": 3,
     "metadata": {},
     "output_type": "execute_result"
    }
   ],
   "source": [
    "anime_data.head()"
   ]
  },
  {
   "cell_type": "code",
   "execution_count": 4,
   "metadata": {},
   "outputs": [
    {
     "name": "stdout",
     "output_type": "stream",
     "text": [
      "<class 'pandas.core.frame.DataFrame'>\n",
      "RangeIndex: 12294 entries, 0 to 12293\n",
      "Data columns (total 7 columns):\n",
      "anime_id    12294 non-null int64\n",
      "name        12294 non-null object\n",
      "genre       12232 non-null object\n",
      "type        12269 non-null object\n",
      "episodes    12294 non-null object\n",
      "rating      12064 non-null float64\n",
      "members     12294 non-null int64\n",
      "dtypes: float64(1), int64(2), object(4)\n",
      "memory usage: 672.4+ KB\n"
     ]
    }
   ],
   "source": [
    "anime_data.info()"
   ]
  },
  {
   "cell_type": "code",
   "execution_count": 5,
   "metadata": {},
   "outputs": [
    {
     "data": {
      "text/html": [
       "<div>\n",
       "<style>\n",
       "    .dataframe thead tr:only-child th {\n",
       "        text-align: right;\n",
       "    }\n",
       "\n",
       "    .dataframe thead th {\n",
       "        text-align: left;\n",
       "    }\n",
       "\n",
       "    .dataframe tbody tr th {\n",
       "        vertical-align: top;\n",
       "    }\n",
       "</style>\n",
       "<table border=\"1\" class=\"dataframe\">\n",
       "  <thead>\n",
       "    <tr style=\"text-align: right;\">\n",
       "      <th></th>\n",
       "      <th>user_id</th>\n",
       "      <th>anime_id</th>\n",
       "      <th>rating</th>\n",
       "    </tr>\n",
       "  </thead>\n",
       "  <tbody>\n",
       "    <tr>\n",
       "      <th>0</th>\n",
       "      <td>1</td>\n",
       "      <td>20</td>\n",
       "      <td>-1</td>\n",
       "    </tr>\n",
       "    <tr>\n",
       "      <th>1</th>\n",
       "      <td>1</td>\n",
       "      <td>24</td>\n",
       "      <td>-1</td>\n",
       "    </tr>\n",
       "    <tr>\n",
       "      <th>2</th>\n",
       "      <td>1</td>\n",
       "      <td>79</td>\n",
       "      <td>-1</td>\n",
       "    </tr>\n",
       "    <tr>\n",
       "      <th>3</th>\n",
       "      <td>1</td>\n",
       "      <td>226</td>\n",
       "      <td>-1</td>\n",
       "    </tr>\n",
       "    <tr>\n",
       "      <th>4</th>\n",
       "      <td>1</td>\n",
       "      <td>241</td>\n",
       "      <td>-1</td>\n",
       "    </tr>\n",
       "  </tbody>\n",
       "</table>\n",
       "</div>"
      ],
      "text/plain": [
       "   user_id  anime_id  rating\n",
       "0        1        20      -1\n",
       "1        1        24      -1\n",
       "2        1        79      -1\n",
       "3        1       226      -1\n",
       "4        1       241      -1"
      ]
     },
     "execution_count": 5,
     "metadata": {},
     "output_type": "execute_result"
    }
   ],
   "source": [
    "user_rating.head()"
   ]
  },
  {
   "cell_type": "markdown",
   "metadata": {},
   "source": [
    "# Content based recommendation system"
   ]
  },
  {
   "cell_type": "markdown",
   "metadata": {},
   "source": [
    "A content based recommendation system creates an item profile from the items that the user rated. Then the user profile is inferred from this item profile that tells us the likes/dislikes of that user.  Then we compare the user profile to a catalog to recommend similar items.\n",
    "So in our case we'll build an item profile for every anime first. Then we'll infer the user profile from these items. "
   ]
  },
  {
   "cell_type": "markdown",
   "metadata": {},
   "source": [
    "First we'll drop all the rows that contain NA"
   ]
  },
  {
   "cell_type": "code",
   "execution_count": 6,
   "metadata": {
    "collapsed": true
   },
   "outputs": [],
   "source": [
    "anime_data.dropna(inplace=True)"
   ]
  },
  {
   "cell_type": "markdown",
   "metadata": {},
   "source": [
    "Now we'll create a lookup table for the anime id and the name."
   ]
  },
  {
   "cell_type": "code",
   "execution_count": 7,
   "metadata": {
    "collapsed": true
   },
   "outputs": [],
   "source": [
    "lookup_anime = anime_data[['anime_id','name']]\n",
    "# anime_data.drop(['name'],inplace=True,axis=1)"
   ]
  },
  {
   "cell_type": "markdown",
   "metadata": {},
   "source": [
    "Now we'll create the anime profile using the genre and then add the type variable too. we are not using the members as a feature for now so we'll drop that column"
   ]
  },
  {
   "cell_type": "code",
   "execution_count": 8,
   "metadata": {
    "collapsed": true
   },
   "outputs": [],
   "source": [
    "anime_data.drop(['members'],axis=1,inplace=True)"
   ]
  },
  {
   "cell_type": "code",
   "execution_count": 9,
   "metadata": {
    "collapsed": true
   },
   "outputs": [],
   "source": [
    "# Creating new columns from comma separated genre column\n",
    "df = pd.DataFrame(anime_data['genre'].str.split(',', expand=True).stack(),columns=['genre']).reset_index().drop('level_1',axis=1)\n",
    "df['genre']=df['genre'].str.strip()\n",
    "anime_genre_profile = pd.get_dummies(df).groupby('level_0').sum()\n",
    "anime_data.drop(['genre'],axis=1,inplace=True)"
   ]
  },
  {
   "cell_type": "code",
   "execution_count": 10,
   "metadata": {
    "collapsed": true
   },
   "outputs": [],
   "source": [
    "# Creating Anime profile\n",
    "anime_profile = pd.concat([pd.concat([anime_data,anime_genre_profile],axis=1),pd.get_dummies(anime_data['type'])],axis=1)\n",
    "anime_profile.drop(['type'],axis=1,inplace=True)\n",
    "anime_profile = anime_profile.set_index('anime_id')\n",
    "anime_profile.drop(['episodes'],axis=1,inplace=True)"
   ]
  },
  {
   "cell_type": "code",
   "execution_count": 11,
   "metadata": {},
   "outputs": [
    {
     "data": {
      "text/plain": [
       "(7813737, 3)"
      ]
     },
     "execution_count": 11,
     "metadata": {},
     "output_type": "execute_result"
    }
   ],
   "source": [
    "user_rating.shape"
   ]
  },
  {
   "cell_type": "code",
   "execution_count": 12,
   "metadata": {
    "collapsed": true
   },
   "outputs": [],
   "source": [
    "# Selecting the anime that are in anime profile dataframe\n",
    "user_rating = user_rating[user_rating['anime_id'].isin(anime_profile.index)]"
   ]
  },
  {
   "cell_type": "code",
   "execution_count": 13,
   "metadata": {},
   "outputs": [
    {
     "data": {
      "text/plain": [
       "(7813611, 3)"
      ]
     },
     "execution_count": 13,
     "metadata": {},
     "output_type": "execute_result"
    }
   ],
   "source": [
    "user_rating.shape"
   ]
  },
  {
   "cell_type": "code",
   "execution_count": 14,
   "metadata": {
    "collapsed": true
   },
   "outputs": [],
   "source": [
    "# Sample of the data\n",
    "nusers = 10000\n",
    "users = np.random.choice(user_rating['user_id'].unique(),size=nusers)\n",
    "users = np.append(users,3)\n",
    "sample = user_rating[user_rating['user_id'].isin(users)]"
   ]
  },
  {
   "cell_type": "code",
   "execution_count": 15,
   "metadata": {
    "collapsed": true
   },
   "outputs": [],
   "source": [
    "# creating a utility matrix between user and anime with ratings as the values\n",
    "utility_matrix = sample.pivot(values='rating',columns='anime_id',index='user_id').fillna(0)"
   ]
  },
  {
   "cell_type": "code",
   "execution_count": 16,
   "metadata": {
    "collapsed": true
   },
   "outputs": [],
   "source": [
    "# count of anime seen by a user - doesn't matter if rated or not.\n",
    "anime_seen = utility_matrix.astype(bool).sum(axis=1)\n",
    "# Converting unrated anime ratings(-1) to 0\n",
    "utility_matrix = utility_matrix.replace(-1,0)"
   ]
  },
  {
   "cell_type": "code",
   "execution_count": 17,
   "metadata": {
    "collapsed": true
   },
   "outputs": [],
   "source": [
    "# Average rating given by a user. This will help in taking into account the rating tendencies of users i.e\n",
    "# Some users rate higher than others and some lower. So normalising the rating sets the scale right in this case.\n",
    "utility_matrix['average_rating'] = utility_matrix.sum(axis=1)/anime_seen\n",
    "utility_matrix = utility_matrix[utility_matrix['average_rating']!=0]"
   ]
  },
  {
   "cell_type": "code",
   "execution_count": 18,
   "metadata": {
    "collapsed": true
   },
   "outputs": [],
   "source": [
    "utility_matrix.columns = utility_matrix.columns.astype(str)"
   ]
  },
  {
   "cell_type": "code",
   "execution_count": 19,
   "metadata": {
    "collapsed": true
   },
   "outputs": [],
   "source": [
    "anime_profile.index = anime_profile.index.astype(str)"
   ]
  },
  {
   "cell_type": "code",
   "execution_count": 20,
   "metadata": {},
   "outputs": [
    {
     "data": {
      "text/html": [
       "<div>\n",
       "<style>\n",
       "    .dataframe thead tr:only-child th {\n",
       "        text-align: right;\n",
       "    }\n",
       "\n",
       "    .dataframe thead th {\n",
       "        text-align: left;\n",
       "    }\n",
       "\n",
       "    .dataframe tbody tr th {\n",
       "        vertical-align: top;\n",
       "    }\n",
       "</style>\n",
       "<table border=\"1\" class=\"dataframe\">\n",
       "  <thead>\n",
       "    <tr style=\"text-align: right;\">\n",
       "      <th></th>\n",
       "      <th>name</th>\n",
       "      <th>rating</th>\n",
       "      <th>genre_Action</th>\n",
       "      <th>genre_Adventure</th>\n",
       "      <th>genre_Cars</th>\n",
       "      <th>genre_Comedy</th>\n",
       "      <th>genre_Dementia</th>\n",
       "      <th>genre_Demons</th>\n",
       "      <th>genre_Drama</th>\n",
       "      <th>genre_Ecchi</th>\n",
       "      <th>...</th>\n",
       "      <th>genre_Thriller</th>\n",
       "      <th>genre_Vampire</th>\n",
       "      <th>genre_Yaoi</th>\n",
       "      <th>genre_Yuri</th>\n",
       "      <th>Movie</th>\n",
       "      <th>Music</th>\n",
       "      <th>ONA</th>\n",
       "      <th>OVA</th>\n",
       "      <th>Special</th>\n",
       "      <th>TV</th>\n",
       "    </tr>\n",
       "    <tr>\n",
       "      <th>anime_id</th>\n",
       "      <th></th>\n",
       "      <th></th>\n",
       "      <th></th>\n",
       "      <th></th>\n",
       "      <th></th>\n",
       "      <th></th>\n",
       "      <th></th>\n",
       "      <th></th>\n",
       "      <th></th>\n",
       "      <th></th>\n",
       "      <th></th>\n",
       "      <th></th>\n",
       "      <th></th>\n",
       "      <th></th>\n",
       "      <th></th>\n",
       "      <th></th>\n",
       "      <th></th>\n",
       "      <th></th>\n",
       "      <th></th>\n",
       "      <th></th>\n",
       "      <th></th>\n",
       "    </tr>\n",
       "  </thead>\n",
       "  <tbody>\n",
       "    <tr>\n",
       "      <th>32281</th>\n",
       "      <td>Kimi no Na wa.</td>\n",
       "      <td>9.37</td>\n",
       "      <td>0</td>\n",
       "      <td>0</td>\n",
       "      <td>0</td>\n",
       "      <td>0</td>\n",
       "      <td>0</td>\n",
       "      <td>0</td>\n",
       "      <td>1</td>\n",
       "      <td>0</td>\n",
       "      <td>...</td>\n",
       "      <td>0</td>\n",
       "      <td>0</td>\n",
       "      <td>0</td>\n",
       "      <td>0</td>\n",
       "      <td>1</td>\n",
       "      <td>0</td>\n",
       "      <td>0</td>\n",
       "      <td>0</td>\n",
       "      <td>0</td>\n",
       "      <td>0</td>\n",
       "    </tr>\n",
       "    <tr>\n",
       "      <th>5114</th>\n",
       "      <td>Fullmetal Alchemist: Brotherhood</td>\n",
       "      <td>9.26</td>\n",
       "      <td>1</td>\n",
       "      <td>1</td>\n",
       "      <td>0</td>\n",
       "      <td>0</td>\n",
       "      <td>0</td>\n",
       "      <td>0</td>\n",
       "      <td>1</td>\n",
       "      <td>0</td>\n",
       "      <td>...</td>\n",
       "      <td>0</td>\n",
       "      <td>0</td>\n",
       "      <td>0</td>\n",
       "      <td>0</td>\n",
       "      <td>0</td>\n",
       "      <td>0</td>\n",
       "      <td>0</td>\n",
       "      <td>0</td>\n",
       "      <td>0</td>\n",
       "      <td>1</td>\n",
       "    </tr>\n",
       "    <tr>\n",
       "      <th>28977</th>\n",
       "      <td>Gintama°</td>\n",
       "      <td>9.25</td>\n",
       "      <td>1</td>\n",
       "      <td>0</td>\n",
       "      <td>0</td>\n",
       "      <td>1</td>\n",
       "      <td>0</td>\n",
       "      <td>0</td>\n",
       "      <td>0</td>\n",
       "      <td>0</td>\n",
       "      <td>...</td>\n",
       "      <td>0</td>\n",
       "      <td>0</td>\n",
       "      <td>0</td>\n",
       "      <td>0</td>\n",
       "      <td>0</td>\n",
       "      <td>0</td>\n",
       "      <td>0</td>\n",
       "      <td>0</td>\n",
       "      <td>0</td>\n",
       "      <td>1</td>\n",
       "    </tr>\n",
       "    <tr>\n",
       "      <th>9253</th>\n",
       "      <td>Steins;Gate</td>\n",
       "      <td>9.17</td>\n",
       "      <td>0</td>\n",
       "      <td>0</td>\n",
       "      <td>0</td>\n",
       "      <td>0</td>\n",
       "      <td>0</td>\n",
       "      <td>0</td>\n",
       "      <td>0</td>\n",
       "      <td>0</td>\n",
       "      <td>...</td>\n",
       "      <td>1</td>\n",
       "      <td>0</td>\n",
       "      <td>0</td>\n",
       "      <td>0</td>\n",
       "      <td>0</td>\n",
       "      <td>0</td>\n",
       "      <td>0</td>\n",
       "      <td>0</td>\n",
       "      <td>0</td>\n",
       "      <td>1</td>\n",
       "    </tr>\n",
       "    <tr>\n",
       "      <th>9969</th>\n",
       "      <td>Gintama&amp;#039;</td>\n",
       "      <td>9.16</td>\n",
       "      <td>1</td>\n",
       "      <td>0</td>\n",
       "      <td>0</td>\n",
       "      <td>1</td>\n",
       "      <td>0</td>\n",
       "      <td>0</td>\n",
       "      <td>0</td>\n",
       "      <td>0</td>\n",
       "      <td>...</td>\n",
       "      <td>0</td>\n",
       "      <td>0</td>\n",
       "      <td>0</td>\n",
       "      <td>0</td>\n",
       "      <td>0</td>\n",
       "      <td>0</td>\n",
       "      <td>0</td>\n",
       "      <td>0</td>\n",
       "      <td>0</td>\n",
       "      <td>1</td>\n",
       "    </tr>\n",
       "  </tbody>\n",
       "</table>\n",
       "<p>5 rows × 51 columns</p>\n",
       "</div>"
      ],
      "text/plain": [
       "                                      name  rating  genre_Action  \\\n",
       "anime_id                                                           \n",
       "32281                       Kimi no Na wa.    9.37             0   \n",
       "5114      Fullmetal Alchemist: Brotherhood    9.26             1   \n",
       "28977                             Gintama°    9.25             1   \n",
       "9253                           Steins;Gate    9.17             0   \n",
       "9969                         Gintama&#039;    9.16             1   \n",
       "\n",
       "          genre_Adventure  genre_Cars  genre_Comedy  genre_Dementia  \\\n",
       "anime_id                                                              \n",
       "32281                   0           0             0               0   \n",
       "5114                    1           0             0               0   \n",
       "28977                   0           0             1               0   \n",
       "9253                    0           0             0               0   \n",
       "9969                    0           0             1               0   \n",
       "\n",
       "          genre_Demons  genre_Drama  genre_Ecchi ...  genre_Thriller  \\\n",
       "anime_id                                         ...                   \n",
       "32281                0            1            0 ...               0   \n",
       "5114                 0            1            0 ...               0   \n",
       "28977                0            0            0 ...               0   \n",
       "9253                 0            0            0 ...               1   \n",
       "9969                 0            0            0 ...               0   \n",
       "\n",
       "          genre_Vampire  genre_Yaoi  genre_Yuri  Movie  Music  ONA  OVA  \\\n",
       "anime_id                                                                  \n",
       "32281                 0           0           0      1      0    0    0   \n",
       "5114                  0           0           0      0      0    0    0   \n",
       "28977                 0           0           0      0      0    0    0   \n",
       "9253                  0           0           0      0      0    0    0   \n",
       "9969                  0           0           0      0      0    0    0   \n",
       "\n",
       "          Special  TV  \n",
       "anime_id               \n",
       "32281           0   0  \n",
       "5114            0   1  \n",
       "28977           0   1  \n",
       "9253            0   1  \n",
       "9969            0   1  \n",
       "\n",
       "[5 rows x 51 columns]"
      ]
     },
     "execution_count": 20,
     "metadata": {},
     "output_type": "execute_result"
    }
   ],
   "source": [
    "# anime_profile.drop(['name','rating'],axis=1,inplace=True)\n",
    "anime_profile.head()"
   ]
  },
  {
   "cell_type": "code",
   "execution_count": 21,
   "metadata": {},
   "outputs": [
    {
     "data": {
      "text/html": [
       "<div>\n",
       "<style>\n",
       "    .dataframe thead tr:only-child th {\n",
       "        text-align: right;\n",
       "    }\n",
       "\n",
       "    .dataframe thead th {\n",
       "        text-align: left;\n",
       "    }\n",
       "\n",
       "    .dataframe tbody tr th {\n",
       "        vertical-align: top;\n",
       "    }\n",
       "</style>\n",
       "<table border=\"1\" class=\"dataframe\">\n",
       "  <thead>\n",
       "    <tr style=\"text-align: right;\">\n",
       "      <th>anime_id</th>\n",
       "      <th>1</th>\n",
       "      <th>5</th>\n",
       "      <th>6</th>\n",
       "      <th>7</th>\n",
       "      <th>8</th>\n",
       "      <th>15</th>\n",
       "      <th>16</th>\n",
       "      <th>17</th>\n",
       "      <th>18</th>\n",
       "      <th>19</th>\n",
       "      <th>...</th>\n",
       "      <th>34240</th>\n",
       "      <th>34283</th>\n",
       "      <th>34324</th>\n",
       "      <th>34325</th>\n",
       "      <th>34349</th>\n",
       "      <th>34358</th>\n",
       "      <th>34367</th>\n",
       "      <th>34476</th>\n",
       "      <th>34519</th>\n",
       "      <th>average_rating</th>\n",
       "    </tr>\n",
       "    <tr>\n",
       "      <th>user_id</th>\n",
       "      <th></th>\n",
       "      <th></th>\n",
       "      <th></th>\n",
       "      <th></th>\n",
       "      <th></th>\n",
       "      <th></th>\n",
       "      <th></th>\n",
       "      <th></th>\n",
       "      <th></th>\n",
       "      <th></th>\n",
       "      <th></th>\n",
       "      <th></th>\n",
       "      <th></th>\n",
       "      <th></th>\n",
       "      <th></th>\n",
       "      <th></th>\n",
       "      <th></th>\n",
       "      <th></th>\n",
       "      <th></th>\n",
       "      <th></th>\n",
       "      <th></th>\n",
       "    </tr>\n",
       "  </thead>\n",
       "  <tbody>\n",
       "    <tr>\n",
       "      <th>3</th>\n",
       "      <td>0.0</td>\n",
       "      <td>0.0</td>\n",
       "      <td>0.0</td>\n",
       "      <td>0.0</td>\n",
       "      <td>0.0</td>\n",
       "      <td>0.0</td>\n",
       "      <td>0.0</td>\n",
       "      <td>0.0</td>\n",
       "      <td>0.0</td>\n",
       "      <td>0.0</td>\n",
       "      <td>...</td>\n",
       "      <td>0.0</td>\n",
       "      <td>0.0</td>\n",
       "      <td>0.0</td>\n",
       "      <td>0.0</td>\n",
       "      <td>0.0</td>\n",
       "      <td>0.0</td>\n",
       "      <td>0.0</td>\n",
       "      <td>0.0</td>\n",
       "      <td>0.0</td>\n",
       "      <td>7.404255</td>\n",
       "    </tr>\n",
       "    <tr>\n",
       "      <th>12</th>\n",
       "      <td>0.0</td>\n",
       "      <td>0.0</td>\n",
       "      <td>0.0</td>\n",
       "      <td>0.0</td>\n",
       "      <td>0.0</td>\n",
       "      <td>0.0</td>\n",
       "      <td>0.0</td>\n",
       "      <td>0.0</td>\n",
       "      <td>0.0</td>\n",
       "      <td>0.0</td>\n",
       "      <td>...</td>\n",
       "      <td>0.0</td>\n",
       "      <td>0.0</td>\n",
       "      <td>0.0</td>\n",
       "      <td>0.0</td>\n",
       "      <td>0.0</td>\n",
       "      <td>0.0</td>\n",
       "      <td>0.0</td>\n",
       "      <td>0.0</td>\n",
       "      <td>0.0</td>\n",
       "      <td>8.818182</td>\n",
       "    </tr>\n",
       "    <tr>\n",
       "      <th>14</th>\n",
       "      <td>0.0</td>\n",
       "      <td>0.0</td>\n",
       "      <td>0.0</td>\n",
       "      <td>0.0</td>\n",
       "      <td>0.0</td>\n",
       "      <td>0.0</td>\n",
       "      <td>0.0</td>\n",
       "      <td>0.0</td>\n",
       "      <td>0.0</td>\n",
       "      <td>0.0</td>\n",
       "      <td>...</td>\n",
       "      <td>0.0</td>\n",
       "      <td>0.0</td>\n",
       "      <td>0.0</td>\n",
       "      <td>0.0</td>\n",
       "      <td>0.0</td>\n",
       "      <td>0.0</td>\n",
       "      <td>0.0</td>\n",
       "      <td>0.0</td>\n",
       "      <td>0.0</td>\n",
       "      <td>7.195122</td>\n",
       "    </tr>\n",
       "    <tr>\n",
       "      <th>19</th>\n",
       "      <td>10.0</td>\n",
       "      <td>9.0</td>\n",
       "      <td>0.0</td>\n",
       "      <td>0.0</td>\n",
       "      <td>0.0</td>\n",
       "      <td>0.0</td>\n",
       "      <td>0.0</td>\n",
       "      <td>0.0</td>\n",
       "      <td>0.0</td>\n",
       "      <td>0.0</td>\n",
       "      <td>...</td>\n",
       "      <td>0.0</td>\n",
       "      <td>0.0</td>\n",
       "      <td>0.0</td>\n",
       "      <td>0.0</td>\n",
       "      <td>0.0</td>\n",
       "      <td>0.0</td>\n",
       "      <td>0.0</td>\n",
       "      <td>0.0</td>\n",
       "      <td>0.0</td>\n",
       "      <td>8.380952</td>\n",
       "    </tr>\n",
       "    <tr>\n",
       "      <th>21</th>\n",
       "      <td>9.0</td>\n",
       "      <td>9.0</td>\n",
       "      <td>0.0</td>\n",
       "      <td>0.0</td>\n",
       "      <td>0.0</td>\n",
       "      <td>0.0</td>\n",
       "      <td>0.0</td>\n",
       "      <td>0.0</td>\n",
       "      <td>0.0</td>\n",
       "      <td>0.0</td>\n",
       "      <td>...</td>\n",
       "      <td>0.0</td>\n",
       "      <td>0.0</td>\n",
       "      <td>0.0</td>\n",
       "      <td>0.0</td>\n",
       "      <td>0.0</td>\n",
       "      <td>0.0</td>\n",
       "      <td>0.0</td>\n",
       "      <td>0.0</td>\n",
       "      <td>0.0</td>\n",
       "      <td>7.622222</td>\n",
       "    </tr>\n",
       "  </tbody>\n",
       "</table>\n",
       "<p>5 rows × 10638 columns</p>\n",
       "</div>"
      ],
      "text/plain": [
       "anime_id     1    5    6    7    8   15   16   17   18   19       ...        \\\n",
       "user_id                                                           ...         \n",
       "3          0.0  0.0  0.0  0.0  0.0  0.0  0.0  0.0  0.0  0.0       ...         \n",
       "12         0.0  0.0  0.0  0.0  0.0  0.0  0.0  0.0  0.0  0.0       ...         \n",
       "14         0.0  0.0  0.0  0.0  0.0  0.0  0.0  0.0  0.0  0.0       ...         \n",
       "19        10.0  9.0  0.0  0.0  0.0  0.0  0.0  0.0  0.0  0.0       ...         \n",
       "21         9.0  9.0  0.0  0.0  0.0  0.0  0.0  0.0  0.0  0.0       ...         \n",
       "\n",
       "anime_id  34240  34283  34324  34325  34349  34358  34367  34476  34519  \\\n",
       "user_id                                                                   \n",
       "3           0.0    0.0    0.0    0.0    0.0    0.0    0.0    0.0    0.0   \n",
       "12          0.0    0.0    0.0    0.0    0.0    0.0    0.0    0.0    0.0   \n",
       "14          0.0    0.0    0.0    0.0    0.0    0.0    0.0    0.0    0.0   \n",
       "19          0.0    0.0    0.0    0.0    0.0    0.0    0.0    0.0    0.0   \n",
       "21          0.0    0.0    0.0    0.0    0.0    0.0    0.0    0.0    0.0   \n",
       "\n",
       "anime_id  average_rating  \n",
       "user_id                   \n",
       "3               7.404255  \n",
       "12              8.818182  \n",
       "14              7.195122  \n",
       "19              8.380952  \n",
       "21              7.622222  \n",
       "\n",
       "[5 rows x 10638 columns]"
      ]
     },
     "execution_count": 21,
     "metadata": {},
     "output_type": "execute_result"
    }
   ],
   "source": [
    "utility_matrix.head()"
   ]
  },
  {
   "cell_type": "code",
   "execution_count": 22,
   "metadata": {
    "collapsed": true
   },
   "outputs": [],
   "source": [
    "user_profile=pd.DataFrame({'delete':[]})\n",
    "del anime_profile['name']"
   ]
  },
  {
   "cell_type": "code",
   "execution_count": 23,
   "metadata": {
    "collapsed": true
   },
   "outputs": [],
   "source": [
    "# Dropping rating column for now. We'll only use genre and type as a feature for recommendation\n",
    "anime_profile.drop(['rating'],axis=1,inplace=True)"
   ]
  },
  {
   "cell_type": "code",
   "execution_count": 24,
   "metadata": {
    "collapsed": true
   },
   "outputs": [],
   "source": [
    "# weighing each feature by the users normalised rating (rating-mean_rating)/count\n",
    "user_profile = {}\n",
    "count=1\n",
    "for row in utility_matrix.index:\n",
    "    tot = 0\n",
    "    for elem in utility_matrix.loc[row,utility_matrix.loc[row]!=0].index[:-1]:\n",
    "#         count+=anime_profile.loc[elem]\n",
    "#         count=count.replace(0,1)\n",
    "#         tot+=(utility_matrix.loc[row,elem]-utility_matrix.loc[row,'average_rating'])*anime_profile.loc[elem].values\n",
    "        tot+=(utility_matrix.loc[row,elem])*anime_profile.loc[elem].values\n",
    "\n",
    "    \n",
    "    user_profile[row] = tot/count"
   ]
  },
  {
   "cell_type": "code",
   "execution_count": 25,
   "metadata": {},
   "outputs": [
    {
     "name": "stdout",
     "output_type": "stream",
     "text": [
      "-------------------------Recommended anime---------------------\n",
      "Digimon Xros Wars: Toki wo Kakeru Shounen Hunter-tachi ---- 0.89316611845\n",
      "MÄR ---- 0.89316611845\n",
      "Digimon Xros Wars ---- 0.89316611845\n",
      "Toriko ---- 0.89316611845\n",
      "Digimon Xros Wars: Aku no Death General to Nanatsu no Oukoku ---- 0.89316611845\n",
      "One Piece ---- 0.873215413072\n",
      "Fairy Tail (2014) ---- 0.864449723637\n",
      "Saint Seiya Omega ---- 0.856479297215\n",
      "Dragon Quest: Abel Yuusha Densetsu ---- 0.856479297215\n",
      "Nogsaegjeoncha Haemosu ---- 0.856479297215\n",
      "Hitsugi no Chaika: Avenging Battle ---- 0.850992497296\n",
      "Hitsugi no Chaika ---- 0.850992497296\n",
      "Nabari no Ou ---- 0.847805259479\n",
      "Fullmetal Alchemist ---- 0.844513143254\n",
      "Monster Farm: Enbanseki no Himitsu ---- 0.840975513459\n",
      "Legendz: Yomigaeru Ryuuou Densetsu ---- 0.840975513459\n",
      "Arad Senki: Slap Up Party ---- 0.840975513459\n",
      "--------------------------Seen anime-------------------------\n",
      "Naruto\n",
      "Shaman King\n",
      "Slam Dunk\n",
      "Sen to Chihiro no Kamikakushi\n",
      "Dragon Ball GT\n",
      "Spiral: Suiri no Kizuna\n",
      "Fullmetal Alchemist: The Conqueror of Shamballa\n",
      "Pokemon\n",
      "Digimon Adventure\n",
      "Dragon Ball Z\n"
     ]
    }
   ],
   "source": [
    "row = 3\n",
    "seen_anime = utility_matrix.loc[row,utility_matrix.loc[row]!=0].index[:-1]\n",
    "print('-------------------------Recommended anime---------------------')\n",
    "cosine_sim = np.inner(user_profile[row],anime_profile)/(np.linalg.norm(user_profile[row])*np.sqrt(anime_profile.sum(axis=1)))\n",
    "reco = pd.Series(cosine_sim).sort_values(ascending=False).head(20)\n",
    "for elem in reco.index:\n",
    "    if elem not in seen_anime:\n",
    "        print(lookup_anime.loc[lookup_anime['anime_id']==int(elem),'name'].values[0],'----',reco[elem])\n",
    "print('--------------------------Seen anime-------------------------')\n",
    "i=1\n",
    "for elem in seen_anime:\n",
    "    print(lookup_anime.loc[lookup_anime['anime_id']==int(elem),'name'].values[0])\n",
    "    if i%10==0:\n",
    "        break\n",
    "    i+=1"
   ]
  },
  {
   "cell_type": "code",
   "execution_count": 26,
   "metadata": {},
   "outputs": [
    {
     "data": {
      "text/plain": [
       "<matplotlib.axes._subplots.AxesSubplot at 0x10a11a358>"
      ]
     },
     "execution_count": 26,
     "metadata": {},
     "output_type": "execute_result"
    },
    {
     "data": {
      "image/png": "[encoded data removed]",
      "text/plain": [
       "<matplotlib.figure.Figure at 0x10a11ad68>"
      ]
     },
     "metadata": {},
     "output_type": "display_data"
    }
   ],
   "source": [
    "# user history of anime genre - we recommend the genres that the user has watched a lot of and highly rated them.\n",
    "bar=0\n",
    "for elem in utility_matrix.loc[row,utility_matrix.loc[row]!=0].index[:-1]:\n",
    "    bar+=anime_profile.loc[elem]\n",
    "bar.sort_values(ascending=False).plot(kind='bar',figsize=[12,5])"
   ]
  },
  {
   "cell_type": "code",
   "execution_count": 27,
   "metadata": {},
   "outputs": [
    {
     "data": {
      "text/plain": [
       "TV                 516.0\n",
       "genre_Action       452.0\n",
       "genre_Fantasy      394.0\n",
       "genre_Adventure    354.0\n",
       "genre_Shounen      328.0\n",
       "genre_Comedy       291.0\n",
       "genre_Drama        231.0\n",
       "dtype: float64"
      ]
     },
     "execution_count": 27,
     "metadata": {},
     "output_type": "execute_result"
    }
   ],
   "source": [
    "pd.Series(user_profile[row],anime_profile.columns).sort_values(ascending=False).head(7)"
   ]
  },
  {
   "cell_type": "code",
   "execution_count": 28,
   "metadata": {},
   "outputs": [
    {
     "name": "stdout",
     "output_type": "stream",
     "text": [
      "Index(['genre_Action', 'genre_Adventure', 'genre_Comedy', 'genre_Drama',\n",
      "       'genre_Fantasy', 'genre_Shounen', 'TV'],\n",
      "      dtype='object')\n",
      "Index(['genre_Action', 'genre_Adventure', 'genre_Comedy', 'genre_Fantasy',\n",
      "       'genre_Shounen', 'TV'],\n",
      "      dtype='object')\n",
      "Index(['genre_Action', 'genre_Adventure', 'genre_Comedy', 'genre_Fantasy',\n",
      "       'genre_Shounen', 'TV'],\n",
      "      dtype='object')\n",
      "Index(['genre_Action', 'genre_Adventure', 'genre_Comedy', 'genre_Fantasy',\n",
      "       'genre_Shounen', 'TV'],\n",
      "      dtype='object')\n",
      "Index(['genre_Action', 'genre_Adventure', 'genre_Comedy', 'genre_Fantasy',\n",
      "       'genre_Shounen', 'TV'],\n",
      "      dtype='object')\n",
      "Index(['genre_Action', 'genre_Adventure', 'genre_Comedy', 'genre_Fantasy',\n",
      "       'genre_Shounen', 'TV'],\n",
      "      dtype='object')\n",
      "Index(['genre_Action', 'genre_Adventure', 'genre_Comedy', 'genre_Fantasy',\n",
      "       'genre_Shounen', 'genre_Supernatural', 'TV'],\n",
      "      dtype='object')\n",
      "Index(['genre_Action', 'genre_Adventure', 'genre_Comedy', 'genre_Drama',\n",
      "       'genre_Fantasy', 'genre_Shounen', 'genre_Super Power', 'TV'],\n",
      "      dtype='object')\n",
      "Index(['genre_Action', 'genre_Adventure', 'genre_Comedy', 'genre_Fantasy',\n",
      "       'genre_Magic', 'genre_Shounen', 'TV'],\n",
      "      dtype='object')\n",
      "Index(['genre_Action', 'genre_Adventure', 'genre_Comedy', 'genre_Fantasy',\n",
      "       'genre_Magic', 'genre_Shounen', 'TV'],\n",
      "      dtype='object')\n",
      "Index(['genre_Action', 'genre_Adventure', 'genre_Fantasy', 'genre_Shounen',\n",
      "       'TV'],\n",
      "      dtype='object')\n",
      "Index(['genre_Action', 'genre_Adventure', 'genre_Fantasy', 'genre_Shounen',\n",
      "       'TV'],\n",
      "      dtype='object')\n",
      "Index(['genre_Action', 'genre_Adventure', 'genre_Fantasy', 'genre_Shounen',\n",
      "       'TV'],\n",
      "      dtype='object')\n",
      "Index(['genre_Action', 'genre_Adventure', 'genre_Comedy', 'genre_Fantasy',\n",
      "       'genre_Romance', 'genre_Shounen', 'TV'],\n",
      "      dtype='object')\n",
      "Index(['genre_Action', 'genre_Adventure', 'genre_Comedy', 'genre_Fantasy',\n",
      "       'genre_Romance', 'genre_Shounen', 'TV'],\n",
      "      dtype='object')\n",
      "Index(['genre_Action', 'genre_Comedy', 'genre_Drama', 'genre_Fantasy',\n",
      "       'genre_Shounen', 'genre_Supernatural', 'TV'],\n",
      "      dtype='object')\n",
      "Index(['genre_Action', 'genre_Adventure', 'genre_Comedy', 'genre_Drama',\n",
      "       'genre_Fantasy', 'genre_Magic', 'genre_Military', 'genre_Shounen',\n",
      "       'TV'],\n",
      "      dtype='object')\n",
      "Index(['genre_Action', 'genre_Adventure', 'genre_Comedy', 'genre_Fantasy',\n",
      "       'TV'],\n",
      "      dtype='object')\n",
      "Index(['genre_Action', 'genre_Adventure', 'genre_Comedy', 'genre_Fantasy',\n",
      "       'TV'],\n",
      "      dtype='object')\n",
      "Index(['genre_Action', 'genre_Adventure', 'genre_Comedy', 'genre_Fantasy',\n",
      "       'TV'],\n",
      "      dtype='object')\n"
     ]
    }
   ],
   "source": [
    "# recommendations for the user explained\n",
    "for elem in reco.index:\n",
    "    print(anime_profile.loc[elem,anime_profile.loc[elem]!=0].index)"
   ]
  },
  {
   "cell_type": "markdown",
   "metadata": {},
   "source": [
    "Depending on the choice of weights that we use for inferring a user profile from the anime profile we can get different answers. Since a single anime has multiple genres, the normalised weighted average over genres gives preference to less seen genre(i.e shounen anime usually have comedy tag too. Suppose 5/10 shounen anime(all rated 8) have comedy tag, then the normalised weight for shounen genre is 8\\*10/10 and for comedy also it's 8\\*5/5. Now, if there's another anime with tag action,comedy with rating 9. Then comedy weight is 8.12 while shounen weight is 8.) This is intuitively wrong so we don't use normalised weight. This then leads to the preference of genres that are watched a lot and which are highly rated. This gives acceptable recommendations."
   ]
  }
 ],
 "metadata": {
  "kernelspec": {
   "display_name": "Python 3",
   "language": "python",
   "name": "python3"
  },
  "language_info": {
   "codemirror_mode": {
    "name": "ipython",
    "version": 3
   },
   "file_extension": ".py",
   "mimetype": "text/x-python",
   "name": "python",
   "nbconvert_exporter": "python",
   "pygments_lexer": "ipython3",
   "version": "3.6.2"
  }
 },
 "nbformat": 4,
 "nbformat_minor": 2
}
