{
 "cells": [
  {
   "cell_type": "code",
   "execution_count": 3,
   "metadata": {
    "collapsed": true
   },
   "outputs": [],
   "source": [
    "%matplotlib inline\n",
    "import pandas as pd\n",
    "import numpy as np\n",
    "import warnings\n",
    "warnings.filterwarnings(\"ignore\")"
   ]
  },
  {
   "cell_type": "code",
   "execution_count": 13,
   "metadata": {},
   "outputs": [],
   "source": [
    "anime_data = pd.read_csv('anime.csv')\n",
    "user_rating = pd.read_csv('rating.csv')"
   ]
  },
  {
   "cell_type": "code",
   "execution_count": 14,
   "metadata": {},
   "outputs": [
    {
     "data": {
      "text/html": [
       "<div>\n",
       "<style>\n",
       "    .dataframe thead tr:only-child th {\n",
       "        text-align: right;\n",
       "    }\n",
       "\n",
       "    .dataframe thead th {\n",
       "        text-align: left;\n",
       "    }\n",
       "\n",
       "    .dataframe tbody tr th {\n",
       "        vertical-align: top;\n",
       "    }\n",
       "</style>\n",
       "<table border=\"1\" class=\"dataframe\">\n",
       "  <thead>\n",
       "    <tr style=\"text-align: right;\">\n",
       "      <th></th>\n",
       "      <th>anime_id</th>\n",
       "      <th>name</th>\n",
       "      <th>genre</th>\n",
       "      <th>type</th>\n",
       "      <th>episodes</th>\n",
       "      <th>rating</th>\n",
       "      <th>members</th>\n",
       "    </tr>\n",
       "  </thead>\n",
       "  <tbody>\n",
       "    <tr>\n",
       "      <th>0</th>\n",
       "      <td>32281</td>\n",
       "      <td>Kimi no Na wa.</td>\n",
       "      <td>Drama, Romance, School, Supernatural</td>\n",
       "      <td>Movie</td>\n",
       "      <td>1</td>\n",
       "      <td>9.37</td>\n",
       "      <td>200630</td>\n",
       "    </tr>\n",
       "    <tr>\n",
       "      <th>1</th>\n",
       "      <td>5114</td>\n",
       "      <td>Fullmetal Alchemist: Brotherhood</td>\n",
       "      <td>Action, Adventure, Drama, Fantasy, Magic, Mili...</td>\n",
       "      <td>TV</td>\n",
       "      <td>64</td>\n",
       "      <td>9.26</td>\n",
       "      <td>793665</td>\n",
       "    </tr>\n",
       "    <tr>\n",
       "      <th>2</th>\n",
       "      <td>28977</td>\n",
       "      <td>Gintama°</td>\n",
       "      <td>Action, Comedy, Historical, Parody, Samurai, S...</td>\n",
       "      <td>TV</td>\n",
       "      <td>51</td>\n",
       "      <td>9.25</td>\n",
       "      <td>114262</td>\n",
       "    </tr>\n",
       "    <tr>\n",
       "      <th>3</th>\n",
       "      <td>9253</td>\n",
       "      <td>Steins;Gate</td>\n",
       "      <td>Sci-Fi, Thriller</td>\n",
       "      <td>TV</td>\n",
       "      <td>24</td>\n",
       "      <td>9.17</td>\n",
       "      <td>673572</td>\n",
       "    </tr>\n",
       "    <tr>\n",
       "      <th>4</th>\n",
       "      <td>9969</td>\n",
       "      <td>Gintama&amp;#039;</td>\n",
       "      <td>Action, Comedy, Historical, Parody, Samurai, S...</td>\n",
       "      <td>TV</td>\n",
       "      <td>51</td>\n",
       "      <td>9.16</td>\n",
       "      <td>151266</td>\n",
       "    </tr>\n",
       "  </tbody>\n",
       "</table>\n",
       "</div>"
      ],
      "text/plain": [
       "   anime_id                              name  \\\n",
       "0     32281                    Kimi no Na wa.   \n",
       "1      5114  Fullmetal Alchemist: Brotherhood   \n",
       "2     28977                          Gintama°   \n",
       "3      9253                       Steins;Gate   \n",
       "4      9969                     Gintama&#039;   \n",
       "\n",
       "                                               genre   type episodes  rating  \\\n",
       "0               Drama, Romance, School, Supernatural  Movie        1    9.37   \n",
       "1  Action, Adventure, Drama, Fantasy, Magic, Mili...     TV       64    9.26   \n",
       "2  Action, Comedy, Historical, Parody, Samurai, S...     TV       51    9.25   \n",
       "3                                   Sci-Fi, Thriller     TV       24    9.17   \n",
       "4  Action, Comedy, Historical, Parody, Samurai, S...     TV       51    9.16   \n",
       "\n",
       "   members  \n",
       "0   200630  \n",
       "1   793665  \n",
       "2   114262  \n",
       "3   673572  \n",
       "4   151266  "
      ]
     },
     "execution_count": 14,
     "metadata": {},
     "output_type": "execute_result"
    }
   ],
   "source": [
    "anime_data.head()"
   ]
  },
  {
   "cell_type": "code",
   "execution_count": 15,
   "metadata": {},
   "outputs": [
    {
     "name": "stdout",
     "output_type": "stream",
     "text": [
      "<class 'pandas.core.frame.DataFrame'>\n",
      "RangeIndex: 12294 entries, 0 to 12293\n",
      "Data columns (total 7 columns):\n",
      "anime_id    12294 non-null int64\n",
      "name        12294 non-null object\n",
      "genre       12232 non-null object\n",
      "type        12269 non-null object\n",
      "episodes    12294 non-null object\n",
      "rating      12064 non-null float64\n",
      "members     12294 non-null int64\n",
      "dtypes: float64(1), int64(2), object(4)\n",
      "memory usage: 672.4+ KB\n"
     ]
    }
   ],
   "source": [
    "anime_data.info()"
   ]
  },
  {
   "cell_type": "code",
   "execution_count": 16,
   "metadata": {},
   "outputs": [
    {
     "data": {
      "text/html": [
       "<div>\n",
       "<style>\n",
       "    .dataframe thead tr:only-child th {\n",
       "        text-align: right;\n",
       "    }\n",
       "\n",
       "    .dataframe thead th {\n",
       "        text-align: left;\n",
       "    }\n",
       "\n",
       "    .dataframe tbody tr th {\n",
       "        vertical-align: top;\n",
       "    }\n",
       "</style>\n",
       "<table border=\"1\" class=\"dataframe\">\n",
       "  <thead>\n",
       "    <tr style=\"text-align: right;\">\n",
       "      <th></th>\n",
       "      <th>user_id</th>\n",
       "      <th>anime_id</th>\n",
       "      <th>rating</th>\n",
       "    </tr>\n",
       "  </thead>\n",
       "  <tbody>\n",
       "    <tr>\n",
       "      <th>0</th>\n",
       "      <td>1</td>\n",
       "      <td>20</td>\n",
       "      <td>-1</td>\n",
       "    </tr>\n",
       "    <tr>\n",
       "      <th>1</th>\n",
       "      <td>1</td>\n",
       "      <td>24</td>\n",
       "      <td>-1</td>\n",
       "    </tr>\n",
       "    <tr>\n",
       "      <th>2</th>\n",
       "      <td>1</td>\n",
       "      <td>79</td>\n",
       "      <td>-1</td>\n",
       "    </tr>\n",
       "    <tr>\n",
       "      <th>3</th>\n",
       "      <td>1</td>\n",
       "      <td>226</td>\n",
       "      <td>-1</td>\n",
       "    </tr>\n",
       "    <tr>\n",
       "      <th>4</th>\n",
       "      <td>1</td>\n",
       "      <td>241</td>\n",
       "      <td>-1</td>\n",
       "    </tr>\n",
       "  </tbody>\n",
       "</table>\n",
       "</div>"
      ],
      "text/plain": [
       "   user_id  anime_id  rating\n",
       "0        1        20      -1\n",
       "1        1        24      -1\n",
       "2        1        79      -1\n",
       "3        1       226      -1\n",
       "4        1       241      -1"
      ]
     },
     "execution_count": 16,
     "metadata": {},
     "output_type": "execute_result"
    }
   ],
   "source": [
    "user_rating.head()"
   ]
  },
  {
   "cell_type": "markdown",
   "metadata": {},
   "source": [
    "I'll drop all the rows that don't have genre information as I'm planning to use genre to create anime profile."
   ]
  },
  {
   "cell_type": "code",
   "execution_count": 17,
   "metadata": {
    "collapsed": true
   },
   "outputs": [],
   "source": [
    "anime_data.dropna(inplace=True)"
   ]
  },
  {
   "cell_type": "markdown",
   "metadata": {},
   "source": [
    "Now we'll create a lookup table for the anime id and the name."
   ]
  },
  {
   "cell_type": "code",
   "execution_count": 18,
   "metadata": {
    "collapsed": true
   },
   "outputs": [],
   "source": [
    "lookup_anime = anime_data[['anime_id','name',]].sort_values(by='anime_id')"
   ]
  },
  {
   "cell_type": "markdown",
   "metadata": {},
   "source": [
    "Now we'll create the anime profile using the genre and the type variable. We are not using the members as a feature for now so we'll drop that column"
   ]
  },
  {
   "cell_type": "code",
   "execution_count": 19,
   "metadata": {},
   "outputs": [],
   "source": [
    "anime_data.drop(['members','rating','name'],axis=1,inplace=True)"
   ]
  },
  {
   "cell_type": "code",
   "execution_count": 20,
   "metadata": {
    "collapsed": true
   },
   "outputs": [],
   "source": [
    "# Creating new columns from comma separated genre column\n",
    "df = pd.DataFrame(anime_data['genre'].str.split(',', expand=True).stack(),columns=['genre']).reset_index().drop('level_1',axis=1)\n",
    "df['genre']=df['genre'].str.strip()\n",
    "anime_genre_profile = pd.get_dummies(df).groupby('level_0').sum()\n",
    "anime_data.drop(['genre'],axis=1,inplace=True)"
   ]
  },
  {
   "cell_type": "code",
   "execution_count": 21,
   "metadata": {
    "collapsed": true
   },
   "outputs": [],
   "source": [
    "# Creating Anime profile\n",
    "anime_profile = pd.concat([pd.concat([anime_data,anime_genre_profile],axis=1),pd.get_dummies(anime_data['type'])],axis=1)\n",
    "anime_profile.drop(['type'],axis=1,inplace=True)\n",
    "anime_profile.set_index('anime_id',inplace=True)\n",
    "anime_profile.drop(['episodes'],axis=1,inplace=True)"
   ]
  },
  {
   "cell_type": "code",
   "execution_count": 22,
   "metadata": {
    "collapsed": true
   },
   "outputs": [],
   "source": [
    "# Selecting the anime that are in anime profile dataframe \n",
    "user_rating = user_rating[user_rating['anime_id'].isin(anime_profile.index)]"
   ]
  },
  {
   "cell_type": "code",
   "execution_count": 27,
   "metadata": {},
   "outputs": [
    {
     "data": {
      "text/plain": [
       "(7813611, 3)"
      ]
     },
     "execution_count": 27,
     "metadata": {},
     "output_type": "execute_result"
    }
   ],
   "source": [
    "user_rating.shape"
   ]
  },
  {
   "cell_type": "code",
   "execution_count": 23,
   "metadata": {
    "collapsed": true
   },
   "outputs": [],
   "source": [
    "# Sample of the data\n",
    "nusers = 10000\n",
    "users = np.random.choice(user_rating['user_id'].unique(),size=nusers)\n",
    "users = np.append(users,19)\n",
    "sample = user_rating[user_rating['user_id'].isin(users)]"
   ]
  },
  {
   "cell_type": "code",
   "execution_count": 24,
   "metadata": {
    "collapsed": true
   },
   "outputs": [],
   "source": [
    "# creating a utility matrix between user and anime with ratings as the values\n",
    "utility_matrix = sample.pivot(values='rating',columns='anime_id',index='user_id').fillna(0)"
   ]
  },
  {
   "cell_type": "code",
   "execution_count": 25,
   "metadata": {
    "collapsed": true
   },
   "outputs": [],
   "source": [
    "utility_matrix.columns = utility_matrix.columns.astype(str)"
   ]
  },
  {
   "cell_type": "code",
   "execution_count": 26,
   "metadata": {
    "collapsed": true
   },
   "outputs": [],
   "source": [
    "anime_profile.index = anime_profile.index.astype(str)"
   ]
  },
  {
   "cell_type": "code",
   "execution_count": 27,
   "metadata": {
    "collapsed": true
   },
   "outputs": [],
   "source": [
    "utility_matrix=utility_matrix.loc[(utility_matrix!=0).any(1)]"
   ]
  },
  {
   "cell_type": "markdown",
   "metadata": {},
   "source": [
    "# User User Collaborative Filtering"
   ]
  },
  {
   "cell_type": "code",
   "execution_count": 28,
   "metadata": {
    "collapsed": true
   },
   "outputs": [],
   "source": [
    "utility_matrix = utility_matrix.replace(-1,0)"
   ]
  },
  {
   "cell_type": "code",
   "execution_count": 29,
   "metadata": {
    "collapsed": true
   },
   "outputs": [],
   "source": [
    "utility_matrix_norm = utility_matrix.apply(lambda x: x[x>0] - np.mean(x[x>0]),axis=1).fillna(0)"
   ]
  },
  {
   "cell_type": "code",
   "execution_count": 30,
   "metadata": {
    "collapsed": true
   },
   "outputs": [],
   "source": [
    "def top_sim_users(utility_matrix_norm,user_id,n=5):\n",
    "    user = utility_matrix_norm.loc[user_id]\n",
    "    target = user.values.reshape((user.shape[0],1))\n",
    "    cos_sim = np.matmul(utility_matrix_norm,target).ravel()/(np.linalg.norm(target)*np.sqrt(np.square(utility_matrix_norm).sum(axis=1)))\n",
    "    return cos_sim.sort_values(ascending=False).head(n+1)[1:]"
   ]
  },
  {
   "cell_type": "code",
   "execution_count": 31,
   "metadata": {
    "collapsed": true
   },
   "outputs": [],
   "source": [
    "def rating_pred(utility_matrix,utility_matrix_norm,user_id,anime_id,k=5):\n",
    "    \n",
    "    relev_users = utility_matrix_norm[utility_matrix_norm[str(anime_id)]!=0] # All relevant users who've watched this anime\n",
    "    relev_users.loc[user_id,:] = utility_matrix_norm.loc[user_id,:]\n",
    "    \n",
    "    sim_users = top_sim_users(relev_users,user_id,k) # Top k most similar users who've watched this anime\n",
    "    \n",
    "    pred = 0\n",
    "    sim = 0\n",
    "\n",
    "    for sim_user in sim_users.index:\n",
    "        similarity = sim_users[sim_user]\n",
    "        if similarity>0:\n",
    "            sim+=similarity\n",
    "            rating = utility_matrix.loc[sim_user,str(anime_id)] \n",
    "            pred+=similarity*rating\n",
    "        else:\n",
    "#             print('no similar users, need to define a new metric')\n",
    "            return 0\n",
    "    return pred/sim"
   ]
  },
  {
   "cell_type": "code",
   "execution_count": 32,
   "metadata": {
    "collapsed": true
   },
   "outputs": [],
   "source": [
    "def reco(utility_matrix,utility_matrix_norm,user_id,how_many=10):\n",
    "    ratings={}\n",
    "    i=1\n",
    "    similar_users = top_sim_users(utility_matrix_norm,user_id,10)\n",
    "    anime_ids = []\n",
    "    for elem in similar_users.index:\n",
    "        anime_ids = np.append(anime_ids,utility_matrix.loc[elem,utility_matrix.loc[elem]!=0].index)\n",
    "    for anime_id in set(anime_ids):\n",
    "        ratings[anime_id] = rating_pred(utility_matrix,utility_matrix_norm,user_id,anime_id)\n",
    "        i+=1\n",
    "        if i%10==0:\n",
    "            break\n",
    "    \n",
    "    ratings=pd.Series(ratings).sort_index()\n",
    "    ratings.index = lookup_anime.loc[lookup_anime['anime_id'].isin(ratings.index),'name'].values\n",
    "    \n",
    "    return ratings.sort_values(ascending=False).head(how_many)"
   ]
  },
  {
   "cell_type": "code",
   "execution_count": 37,
   "metadata": {},
   "outputs": [
    {
     "name": "stdout",
     "output_type": "stream",
     "text": [
      "--------------------------Seen anime-------------------------\n",
      "Cowboy Bebop\n",
      "Cowboy Bebop: Tengoku no Tobira\n",
      "Fullmetal Alchemist\n",
      "Sen to Chihiro no Kamikakushi\n",
      "Hotaru no Haka\n",
      "Black Lagoon\n",
      "Sennen Joyuu\n",
      "Black Lagoon: The Second Barrage\n",
      "Death Note\n",
      "Code Geass: Hangyaku no Lelouch\n"
     ]
    }
   ],
   "source": []
  },
  {
   "cell_type": "code",
   "execution_count": 39,
   "metadata": {},
   "outputs": [
    {
     "name": "stdout",
     "output_type": "stream",
     "text": [
      "----------------Recommended Anime------------------\n",
      "Mahou Shoujo Madoka★Magica                                             9.391655\n",
      "Code Geass: Hangyaku no Lelouch                                        9.161348\n",
      "Devil May Cry                                                          9.026813\n",
      "Serial Experiments Lain                                                8.718679\n",
      "Naruto: Akaki Yotsuba no Clover wo Sagase                              8.565496\n",
      "Naruto Movie 1: Dai Katsugeki!! Yuki Hime Shinobu Houjou Dattebayo!    8.471915\n",
      "Death Note                                                             8.421401\n",
      "FLCL                                                                   7.790119\n",
      "Bokurano                                                               7.658658\n",
      "dtype: float64\n",
      "--------------------------Seen anime-------------------------\n",
      "Cowboy Bebop\n",
      "Cowboy Bebop: Tengoku no Tobira\n",
      "Fullmetal Alchemist\n",
      "Sen to Chihiro no Kamikakushi\n",
      "Hotaru no Haka\n",
      "Black Lagoon\n",
      "Sennen Joyuu\n",
      "Black Lagoon: The Second Barrage\n",
      "Death Note\n",
      "Code Geass: Hangyaku no Lelouch\n"
     ]
    }
   ],
   "source": [
    "print('----------------Recommended Anime------------------')\n",
    "print(reco(utility_matrix,utility_matrix_norm,19))\n",
    "\n",
    "seen_anime = utility_matrix.loc[19,utility_matrix.loc[19]!=0].index[:-1]\n",
    "print('--------------------------Seen anime-------------------------')\n",
    "i=1\n",
    "for elem in seen_anime:\n",
    "    print(lookup_anime.loc[lookup_anime['anime_id']==int(elem),'name'].values[0])\n",
    "    if i%10==0:\n",
    "        break\n",
    "    i+=1\n",
    "\n",
    "\n"
   ]
  },
  {
   "cell_type": "markdown",
   "metadata": {
    "collapsed": true
   },
   "source": [
    "# Item Item Collaborative Filtering"
   ]
  },
  {
   "cell_type": "code",
   "execution_count": 40,
   "metadata": {
    "collapsed": true
   },
   "outputs": [],
   "source": [
    "utility_matrix_item = utility_matrix.T\n",
    "utility_matrix_item.columns = utility_matrix_item.columns.astype(str)\n",
    "utility_matrix_item.index = utility_matrix_item.index.astype(int)\n",
    "# utility_matrix_item_norm = utility_matrix_norm.T\n",
    "# utility_matrix_item_norm.columns = utility_matrix_item_norm.columns.astype(str)\n",
    "# utility_matrix_item_norm.index = utility_matrix_item_norm.index.astype(int)"
   ]
  },
  {
   "cell_type": "code",
   "execution_count": 41,
   "metadata": {
    "collapsed": true
   },
   "outputs": [],
   "source": [
    "utility_matrix_item_norm = utility_matrix_item.apply(lambda x: x[x>0] - np.mean(x[x>0]),axis=1).fillna(0)"
   ]
  },
  {
   "cell_type": "code",
   "execution_count": 42,
   "metadata": {
    "collapsed": true
   },
   "outputs": [],
   "source": [
    "# Now we should be able to use the same functions as in user-user collaborative filtering"
   ]
  },
  {
   "cell_type": "code",
   "execution_count": 43,
   "metadata": {},
   "outputs": [
    {
     "data": {
      "text/plain": [
       "anime_id\n",
       "5       0.318404\n",
       "205     0.225506\n",
       "6       0.170149\n",
       "227     0.157177\n",
       "4037    0.139454\n",
       "2164    0.138966\n",
       "30      0.137720\n",
       "2251    0.130999\n",
       "467     0.126635\n",
       "339     0.124744\n",
       "dtype: float64"
      ]
     },
     "execution_count": 43,
     "metadata": {},
     "output_type": "execute_result"
    }
   ],
   "source": [
    "top_sim_users(utility_matrix_item_norm,1,10)"
   ]
  },
  {
   "cell_type": "code",
   "execution_count": 44,
   "metadata": {
    "collapsed": true
   },
   "outputs": [],
   "source": [
    "def reco_item(utility_matrix_item,utility_matrix_item_norm,user_id,how_many=10):\n",
    "    ratings={}\n",
    "    i=1\n",
    "    for anime_id in utility_matrix_item_norm[utility_matrix_item_norm[str(user_id)]==0].index:\n",
    "        ratings[anime_id] = rating_pred(utility_matrix_item,utility_matrix_item_norm,anime_id,user_id)\n",
    "        i+=1\n",
    "        if i%50==0:\n",
    "            break\n",
    "    ratings=pd.Series(ratings).sort_index()\n",
    "    ratings.index = lookup_anime.loc[lookup_anime['anime_id'].isin(ratings.index),'name'].values\n",
    "    \n",
    "    return ratings.sort_values(ascending=False).head(how_many)"
   ]
  },
  {
   "cell_type": "code",
   "execution_count": 46,
   "metadata": {},
   "outputs": [
    {
     "name": "stdout",
     "output_type": "stream",
     "text": [
      "----------------Recommended Anime------------------\n",
      "Akira                                                    9.344397\n",
      "Ghost in the Shell                                       9.298843\n",
      "Azumanga Daioh                                           9.233281\n",
      "Rozen Maiden: Träumend                                   9.124461\n",
      "Rurouni Kenshin: Meiji Kenkaku Romantan - Tsuioku-hen    9.087763\n",
      "Neon Genesis Evangelion                                  9.080146\n",
      "Monster                                                  9.037122\n",
      "Zipang                                                   8.914690\n",
      "Ring ni Kakero 1                                         8.901915\n",
      "Rozen Maiden                                             8.767891\n",
      "dtype: float64\n",
      "--------------------------Seen anime-------------------------\n",
      "Cowboy Bebop\n",
      "Cowboy Bebop: Tengoku no Tobira\n",
      "Fullmetal Alchemist\n",
      "Sen to Chihiro no Kamikakushi\n",
      "Hotaru no Haka\n",
      "Black Lagoon\n",
      "Sennen Joyuu\n",
      "Black Lagoon: The Second Barrage\n",
      "Death Note\n",
      "Code Geass: Hangyaku no Lelouch\n"
     ]
    }
   ],
   "source": [
    "print('----------------Recommended Anime------------------')\n",
    "print(reco_item(utility_matrix_item,utility_matrix_item_norm,19))\n",
    "\n",
    "seen_anime = utility_matrix.loc[19,utility_matrix.loc[19]!=0].index[:-1]\n",
    "print('--------------------------Seen anime-------------------------')\n",
    "i=1\n",
    "for elem in seen_anime:\n",
    "    print(lookup_anime.loc[lookup_anime['anime_id']==int(elem),'name'].values[0])\n",
    "    if i%10==0:\n",
    "        break\n",
    "    i+=1\n",
    "\n"
   ]
  },
  {
   "cell_type": "code",
   "execution_count": null,
   "metadata": {
    "collapsed": true
   },
   "outputs": [],
   "source": []
  }
 ],
 "metadata": {
  "kernelspec": {
   "display_name": "Python 3",
   "language": "python",
   "name": "python3"
  },
  "language_info": {
   "codemirror_mode": {
    "name": "ipython",
    "version": 3
   },
   "file_extension": ".py",
   "mimetype": "text/x-python",
   "name": "python",
   "nbconvert_exporter": "python",
   "pygments_lexer": "ipython3",
   "version": "3.6.2"
  }
 },
 "nbformat": 4,
 "nbformat_minor": 2
}
